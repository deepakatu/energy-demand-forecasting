
{
 "cells": [
  {
   "cell_type": "markdown",
   "metadata": {},
   "source": [
    "# Energy Demand Forecasting Analysis\n",
    "\n",
    "This notebook demonstrates the energy demand forecasting models including Prophet, LSTM, and ensemble approaches."
   ]
  },
  {
   "cell_type": "code",
   "execution_count": null,
   "metadata": {},
   "outputs": [],
   "source": [
    "import sys\n",
    "sys.path.append('../src')\n",
    "\n",
    "import pandas as pd\n",
    "import numpy as np\n",
    "import matplotlib.pyplot as plt\n",
    "import seaborn as sns\n",
    "from datetime import datetime, timedelta\n",
    "\n",
    "from data.data_loader import EnergyDataLoader\n",
    "from features.feature_engineering import FeatureEngineer\n",
    "from models.prophet_model import ProphetForecaster\n",
    "from models.lstm_model import LSTMForecaster\n",
    "from models.ensemble_model import EnsembleForecaster\n",
    "from utils.evaluation import ModelEvaluator"
   ]
  },
  {
   "cell_type": "markdown",
   "metadata": {},
   "source": [
    "## Data Loading and Exploration"
   ]
  },
  {
   "cell_type": "code",
   "execution_count": null,
   "metadata": {},
   "outputs": [],
   "source": [
    "# Load sample data\n",
    "data_loader = EnergyDataLoader()\n",
    "data = data_loader.load_sample_data()\n",
    "\n",
    "print(f\"Data shape: {data.shape}\")\n",
    "print(f\"Date range: {data.index.min()} to {data.index.max()}\")\n",
    "data.head()"
   ]
  },
  {
   "cell_type": "code",
   "execution_count": null,
   "metadata": {},
   "outputs": [],
   "source": [
    "# Plot energy demand over time\n",
    "plt.figure(figsize=(15, 6))\n",
    "plt.plot(data.index, data['demand'])\n",
    "plt.title('Energy Demand Over Time')\n",
    "plt.xlabel('Date')\n",
    "plt.ylabel('Demand (MW)')\n",
    "plt.grid(True, alpha=0.3)\n",
    "plt.show()"
   ]
  },
  {
   "cell_type": "markdown",
   "metadata": {},
   "source": [
    "## Feature Engineering"
   ]
  },
  {
   "cell_type": "code",
   "execution_count": null,
   "metadata": {},
   "outputs": [],
   "source": [
    "# Add features\n",
    "feature_engineer = FeatureEngineer()\n",
    "data = feature_engineer.add_temporal_features(data)\n",
    "data = feature_engineer.add_weather_features(data)\n",
    "data = feature_engineer.add_lag_features(data)\n",
    "\n",
    "print(f\"Features added. New shape: {data.shape}\")\n",
    "print(f\"Feature columns: {list(data.columns)}\")"
   ]
  },
  {
   "cell_type": "markdown",
   "metadata": {},
   "source": [
    "## Model Training and Evaluation"
   ]
  },
  {
   "cell_type": "code",
   "execution_count": null,
   "metadata": {},
   "outputs": [],
   "source": [
    "# Split data\n",
    "train_size = int(0.8 * len(data))\n",
    "val_size = int(0.1 * len(data))\n",
    "\n",
    "train_data = data[:train_size].copy()\n",
    "val_data = data[train_size:train_size + val_size].copy()\n",
    "test_data = data[train_size + val_size:].copy()\n",
    "\n",
    "print(f\"Train: {len(train_data)}, Val: {len(val_data)}, Test: {len(test_data)}\")"
   ]
  },
  {
   "cell_type": "code",
   "execution_count": null,
   "metadata": {},
   "outputs": [],
   "source": [
    "# Train Prophet model\n",
    "prophet_model = ProphetForecaster()\n",
    "prophet_data = feature_engineer.prepare_prophet_data(train_data)\n",
    "prophet_model.fit(prophet_data)\n",
    "\n",
    "# Make predictions\n",
    "val_prophet_data = feature_engineer.prepare_prophet_data(val_data)\n",
    "prophet_predictions = prophet_model.predict(val_prophet_data)\n",
    "\n",
    "print(\"Prophet model trained and predictions made\")"
   ]
  },
  {
   "cell_type": "code",
   "execution_count": null,
   "metadata": {},
   "outputs": [],
   "source": [
    "# Evaluate models\n",
    "evaluator = ModelEvaluator()\n",
    "prophet_metrics = evaluator.calculate_metrics(val_data['demand'].values, prophet_predictions)\n",
    "\n",
    "print(\"Prophet Model Performance:\")\n",
    "for metric, value in prophet_metrics.items():\n",
    "    print(f\"{metric}: {value:.4f}\")"
   ]
  },
  {
   "cell_type": "code",
   "execution_count": null,
   "metadata": {},
   "outputs": [],
   "source": [
    "# Plot predictions\n",
    "fig = evaluator.plot_predictions(\n",
    "    val_data['demand'].values, \n",
    "    prophet_predictions, \n",
    "    dates=val_data.index,\n",
    "    title=\"Prophet Model Predictions\"\n",
    ")\n",
    "plt.show()"
   ]
  }
 ],
 "metadata": {
  "kernelspec": {
   "display_name": "Python 3",
   "language": "python",
   "name": "python3"
  },
  "language_info": {
   "codemirror_mode": {
    "name": "ipython",
    "version": 3
   },
   "file_extension": ".py",
   "name": "python",
   "nbconvert_exporter": "python",
   "pygments_lexer": "ipython3",
   "version": "3.8.5"
  }
 },
 "nbformat": 4,
 "nbformat_minor": 4
}
